{
 "cells": [
  {
   "cell_type": "markdown",
   "id": "18c6450c-2b9a-4651-b852-2bdcf9b04f3a",
   "metadata": {},
   "source": [
    "# Wumpus World KB\n",
    "## Task 1.i"
   ]
  },
  {
   "attachments": {
    "791568ff-3422-4ff0-82e8-60cc5054d9cc.png": {
     "image/png": "[encoded data removed]"
    }
   },
   "cell_type": "markdown",
   "id": "fa0757a4-2015-48a3-a854-48fc659ade56",
   "metadata": {},
   "source": [
    "\n",
    "![image.png](attachment:791568ff-3422-4ff0-82e8-60cc5054d9cc.png)\n",
    "\n",
    "\n",
    "## 1.Agent's Location:\n",
    "\n",
    "Aij: Represents that the agent is in cell (i,j) in the grid.\n",
    "\n",
    "## 2. Percept Symbols:\n",
    "\n",
    "Bij: There is a Breeze percept in cell (i,j).\n",
    "Sij: There is a Stench percept in cell (i,j).\n",
    "Pij: There is a Pit in cell (i,j).\n",
    "Wij: There is a Wumpus in cell (i,j).\n",
    "Oki: The agent perceives \"Okay\" status in cell (i).\n",
    "## 3. Logical Connectives:\n",
    "\n",
    "~: Logical NOT.\n",
    "|: Logical OR.\n",
    "&: Logical AND.\n",
    "<=>: Logical equivalence (if and only if).\n",
    "==>: Logical implication (implies).\n",
    "## 4. Rules and Inferences:\n",
    "\n",
    "Bij <=> (P(i+1,j) | P(i-1,j) | P(i,j+1) | P(i,j-1)): A Breeze percept in cell (i,j) implies that there may be a Pit in one of the neighboring cells.\n",
    "\n",
    "Sij <=> (W(i+1,j) | W(i-1,j) | W(i,j+1) | W(i,j-1)): A Stench percept in cell (i,j) implies that there may be a Wumpus in one of the neighboring cells.\n",
    "\n",
    "Oki <=> ~(Pij | Wij): If the agent perceives \"Okay\" status in cell (i), it implies there are no Pits or Wumpus in the same cell.\n",
    "\n",
    "Pij ==> ~Oki: If there is a Pit in cell (i,j), it implies that the agent cannot perceive \"Okay\" status in the same cell.\n",
    "\n",
    "Wij ==> ~Oki: If there is a Wumpus in cell (i,j), it implies that the agent cannot perceive \"Okay\" status in the same cell.\n",
    "\n",
    "## 5. Logical Inference Rules:\n",
    "\n",
    "Modus Ponens: If you know A and A ==> B, then you can conclude B.\n",
    "\n",
    "Modus Tollens: If you know ~B and A ==> B, then you can conclude ~A."
   ]
  },
  {
   "cell_type": "code",
   "execution_count": 65,
   "id": "e566b6dd-bf2f-4dd0-b404-738c25904b32",
   "metadata": {},
   "outputs": [],
   "source": [
    "from utils import *\n",
    "from logic import *"
   ]
  },
  {
   "cell_type": "code",
   "execution_count": 2,
   "id": "e0fdb617-8f1f-429b-b6ed-33c4684d0b22",
   "metadata": {},
   "outputs": [],
   "source": [
    "wumpus_kb = PropKB()"
   ]
  },
  {
   "cell_type": "markdown",
   "id": "8cc7a1bb-aabb-4499-a338-57ba3550eaa5",
   "metadata": {},
   "source": [
    "# In the Wumpus World :\n",
    "\n",
    "the following line of code is used to define symbolic expressions (variables) representing various aspects of the environment. These variables are used to represent the states and conditions of different squares in the grid-based world. the logic behind those lines of code:\n",
    "\n",
    "- `A11, A12, A21, A22, A31, A32`: These variables represent the squares in the Wumpus World grid. Each variable corresponds to a specific square, where 'A' represents the Agent's location, and the two digits represent the row and column of the square. For example, `A11` represents the Agent's location in row 1, column 1.\n",
    "\n",
    "- `P11, P12, P13, P21, P22, P31, P32`: These variables represent the possible locations of the Pit in the grid. Similar to the Agent's location, each variable corresponds to a specific square where a Pit might be located.\n",
    "\n",
    "- `B11, B12, B21, B22, B31, B32`: These variables represent the possible locations of the Breeze condition in the grid. These variables indicate whether there is a breeze in a specific square.\n",
    "\n",
    "- `W11, W12, W13, W21, W22, W31, W32`: These variables represent the possible locations of the Wumpus in the grid. Each variable corresponds to a square where the Wumpus might be located."
   ]
  },
  {
   "cell_type": "markdown",
   "id": "094e602f-61f1-42e7-bb5c-8ab415dfbcb1",
   "metadata": {},
   "source": [
    "- `S11, S12, S21, S22, S31, S32`: These variables represent the possible locations of the Stench condition in the grid. These variables indicate whether there is a stench in a specific square.\n",
    "\n",
    "- `OK11, OK12, OK21, OK22, OK31, OK32`: These variables represent the possible locations where the Agent perceives that it is safe to move. These variables indicate whether a square is safe to move into.\n",
    "\n",
    "The purpose of defining these symbolic expressions is to represent the state of the environment in a symbolic and logical manner. By using these variables, you can create logical rules and expressions that capture the relationships and conditions in the Wumpus World. For example, by defining rules that specify when a square is safe to move into based on the absence of Pits and Wumpus in adjacent squares or when the Agent perceives a Stench or Breeze in a particular location.\n",
    "\n",
    "These symbolic expressions play a crucial role in building a knowledge base and reasoning about the state of the world in the Wumpus World environment."
   ]
  },
  {
   "cell_type": "code",
   "execution_count": 3,
   "id": "6fc7ff99-4f0b-41df-9b08-f9a1d2bf3843",
   "metadata": {},
   "outputs": [],
   "source": [
    "A11, A12, A21, A22, A31, A32 = expr('A11, A12, A21, A22, A31, A32')"
   ]
  },
  {
   "cell_type": "code",
   "execution_count": 4,
   "id": "9216a650-3f3e-4ebc-95a0-d63e77c14ed0",
   "metadata": {},
   "outputs": [],
   "source": [
    "P11, P12, P13, P21, P22, P31, P32 = expr('P11, P12, P13, P21, P22, P31, P32')"
   ]
  },
  {
   "cell_type": "code",
   "execution_count": 5,
   "id": "5b423f63-4350-4c8b-a900-78084fec995f",
   "metadata": {},
   "outputs": [],
   "source": [
    "B11, B12, B21, B22, B31, B32 = expr('B11, B12, B21, B22, B31, B32')"
   ]
  },
  {
   "cell_type": "code",
   "execution_count": 6,
   "id": "7ff08945-52e3-45aa-abee-537e622b8e11",
   "metadata": {},
   "outputs": [],
   "source": [
    "W11, W12, W13, W21, W22, W31, W32 = expr('W11, W12, W13, W21, W22, W31, W32')"
   ]
  },
  {
   "cell_type": "code",
   "execution_count": 7,
   "id": "9d197e57-e912-4e8e-ae6e-5e7a8f424213",
   "metadata": {},
   "outputs": [],
   "source": [
    "S11, S12, S21, S22, S31, S32 = expr('S11, S12, S21, S22, S31, S32')"
   ]
  },
  {
   "cell_type": "code",
   "execution_count": 8,
   "id": "c3cbd7ff-c31b-4420-9a7d-de961b40cc63",
   "metadata": {},
   "outputs": [],
   "source": [
    "OK11, OK12, OK21, OK22, OK31, OK32 = expr('OK11, OK12, OK21, OK22, OK31, OK32')"
   ]
  },
  {
   "cell_type": "markdown",
   "id": "367a1685-5b86-4881-857c-458e5bfc243e",
   "metadata": {},
   "source": [
    "# In the Wumpus World :\n",
    "\n",
    "the following code is used to update a knowledge base (`wumpus_kb`) with information about the initial state of cell (1,1). This is a symbolic representation of how the Agent perceives its surroundings and updates its knowledge accordingly.\n",
    "\n",
    "- `wumpus_kb.tell(A11)`: This statement informs the knowledge base that the Agent (`A11`) is present in cell (1,1). It indicates the initial position of the Agent.\n",
    "\n",
    "- `wumpus_kb.tell(~P11)`: This statement negates the presence of a Pit (`P11`) in cell (1,1). It means that the knowledge base now knows that there is no Pit in the initial cell."
   ]
  },
  {
   "cell_type": "markdown",
   "id": "fa4b092c-82a4-4084-8b1c-b12a5f227408",
   "metadata": {},
   "source": [
    "- `wumpus_kb.tell(~B11)`: This statement negates the presence of a Breeze (`B11`) in cell (1,1). It indicates that the knowledge base has information that there is no Breeze in the initial cell.\n",
    "\n",
    "- `wumpus_kb.tell(~W11)`: This statement negates the presence of a Wumpus (`W11`) in cell (1,1). It means that the knowledge base now knows that there is no Wumpus in the initial cell.\n",
    "\n",
    "- `wumpus_kb.tell(~S11)`: This statement negates the presence of a Stench (`S11`) in cell (1,1). It indicates that the knowledge base has information that there is no Stench in the initial cell."
   ]
  },
  {
   "cell_type": "code",
   "execution_count": 26,
   "id": "e915b7c7-1584-4357-8ffd-ff43e837bcd0",
   "metadata": {},
   "outputs": [],
   "source": [
    "## In the first cell 1,1 indicating that it is safe and does not have pit, stench, breeze or wumpus\n",
    "wumpus_kb.tell(A11)\n",
    "wumpus_kb.tell(~P11)\n",
    "wumpus_kb.tell(~B11)\n",
    "wumpus_kb.tell(~W11)\n",
    "wumpus_kb.tell(~S11)"
   ]
  },
  {
   "cell_type": "markdown",
   "id": "b8db541d-41f1-40e7-ba6f-8e4862c4bb45",
   "metadata": {},
   "source": [
    "The updating of the knowledge base (`wumpus_kb`) to represent the state of cell (2,1) and the neighboring cell (1,2) in the Wumpus World environment as shown in cell 10 and 11:\r\n",
    "\r\n",
    "- `wumpus_kb.tell(B21)`: This statement indicates that there is a Breeze (`B21`) in cell (2,1). It signifies that the Agent perceives a Breeze in this specific cell.\r\n",
    "\r\n",
    "- `wumpus_kb.tell(~S21)`: Here, we negate the presence of a Stench (`S21`) in cell (2,1). It conveys that the knowledge base now holds information that there is no Stench in this cell.\r\n",
    "\r\n",
    "- `wumpus_kb.tell(~P21)`: This statement negates the presence of a Pit (`P21`) in cell (2,1). It informs the knowledge base that there is no Pit in this particular cell.\r\n",
    "\r\n",
    "- `wumpus_kb.tell(~W21)`: Similarly, we negate the presence of a Wumpus (`W21`) in cell (2,1). This indicates that the knowledge base has information that there is no Wumpus in this cell.\r\n",
    "\r\n",
    "- `wumpus_kb.tell(S12)`: This statement informs the knowledge base that there is a Stench (`S12`) in cell (1,2). It means that the Agent perceives a Stench in this specific cell.\r\n",
    "\r\n",
    "- `wumpus_kb.tell(~B12)`: Here, we negate the presence of a Breeze (`B12`) in cell (1,2). It communicates that the knowledge base has information that there is no Breeze in this cell.\r\n",
    "\r\n",
    "- `wumpus_kb.tell(~P12)`: This statement negates the presence of a Pit (`P12`) in cell (1,2). It indicates that the knowledge base now knows that there is no Pit in this cell.\r\n",
    "\r\n",
    "- `wumpus_kb.tell(~W12)`: Similarly, we negate the presence of a Wumpus (`W12`) in cell (1,2). This conveys that the knowledge base has information that there is no Wumpus in this cell.\r\n",
    "\r\n",
    "These statements are essential for updating the knowledge base with perceptual information about the environment. The Agent relies on this information to make informed decisions about its actions and navigate the Wumpus World safely as it explores more cells.\r\n",
    "\r\n",
    "This iterative process of updating the knowledge base with perceptual data is fundamental in solving problems in the Wumpus World and similar environments, allowing the Agent to reason about the statake strategic moves. "
   ]
  },
  {
   "cell_type": "code",
   "execution_count": 10,
   "id": "1cf63fe4-9014-442b-93cf-a65a342bdd65",
   "metadata": {},
   "outputs": [],
   "source": [
    "# the cell 2,1 has BREEZE\n",
    "wumpus_kb.tell(B21)\n",
    "wumpus_kb.tell(~S21)\n",
    "wumpus_kb.tell(~P21)\n",
    "wumpus_kb.tell(~W21)"
   ]
  },
  {
   "cell_type": "code",
   "execution_count": 11,
   "id": "9611e82e-0b4a-4d82-9dbf-d3882a4c70e9",
   "metadata": {},
   "outputs": [],
   "source": [
    "# the cell 1,2 has BREEZE\n",
    "wumpus_kb.tell(S12)\n",
    "wumpus_kb.tell(~B12)\n",
    "wumpus_kb.tell(~P12)\n",
    "wumpus_kb.tell(~W12)"
   ]
  },
  {
   "cell_type": "markdown",
   "id": "0a1c964b-9a86-4c9d-9e43-9fa3adb611d7",
   "metadata": {},
   "source": [
    "The rules are being declared for the presence of Pits (`P`) and Wumpus (`W`) in the Wumpus World environment using a knowledge base (`wumpus_kb`).by explaining the rules defined:\n",
    "\n",
    "1. `wumpus_kb.tell(B11 | '<=>' | (P21 | P12 ))`: This rule establishes a logical equivalence ('<=>') between the presence of a Breeze (`B11`) in cell (1,1) and the presence of Pits (`P21` or `P12`) in neighboring cells (2,1) or (1,2). In other words, if there is a Breeze in (1,1), it implies that there must be a Pit in either (2,1) or (1,2), and vice versa.\n",
    "\n",
    "2. `wumpus_kb.tell(W11 | '<=>' | (S21 | S12 ))`: Similarly, this rule sets up a logical equivalence between the presence of a Wumpus (`W11`) in cell (1,1) and the presence of Stenches (`S21` or `S12`) in neighboring cells (2,1) or (1,2).\n",
    "\n",
    "These rules are used to represent the relationships and dependencies between perceptual cues (Breeze, Stench) and the underlying elements of the Wumpus World (Pits, Wumpus). They allow the knowledge base to reason about the state of the environment and help the Agent make decisions while navigating the Wumpus World.\n",
    "\n",
    "These declarations are crucial for the Agent to deduce potential dangers (Pits or Wumpus) based on observed cues (Breeze or Stench) and plan its actions accordingly. "
   ]
  },
  {
   "cell_type": "code",
   "execution_count": 25,
   "id": "450548f0-5f65-402b-8970-baba85248339",
   "metadata": {},
   "outputs": [],
   "source": [
    "wumpus_kb.tell(B11 | '<=>' | (P21 | P12 ))\n",
    "wumpus_kb.tell(W11 | '<=>' | (S21 | S12 ))"
   ]
  },
  {
   "cell_type": "code",
   "execution_count": 13,
   "id": "a6138cd9-a15a-40b6-a1bc-e4fc20e748c9",
   "metadata": {},
   "outputs": [
    {
     "data": {
      "text/plain": [
       "[A11,\n",
       " ~P11,\n",
       " ~B11,\n",
       " ~W11,\n",
       " ~S11,\n",
       " B21,\n",
       " ~S21,\n",
       " ~P21,\n",
       " ~W21,\n",
       " S12,\n",
       " ~B12,\n",
       " ~P12,\n",
       " ~W12,\n",
       " (~P21 | B11),\n",
       " (~P12 | B11),\n",
       " (P21 | P12 | ~B11),\n",
       " (~S21 | W11),\n",
       " (~S12 | W11),\n",
       " (S21 | S12 | ~W11)]"
      ]
     },
     "execution_count": 13,
     "metadata": {},
     "output_type": "execute_result"
    }
   ],
   "source": [
    "#Checking the clauses\n",
    "wumpus_kb.clauses"
   ]
  },
  {
   "cell_type": "markdown",
   "id": "07f281e6-66b9-43a9-826d-73a772c1825e",
   "metadata": {},
   "source": [
    "------------------------------------------------------------------------------------------------------------------------------------  "
   ]
  },
  {
   "cell_type": "markdown",
   "id": "07efd3fc-596d-4fba-a555-045ed653672d",
   "metadata": {},
   "source": [
    "# Task 1.ii\n",
    "\n",
    "In cell [14] , rules are declared to represent the \"Okay\" status (`OK`) for each cell in the Wumpus World environment. These rules establish logical equivalences ('<=>') between the \"Okay\" status of a cell and the absence of Pits (`P`) and Wumpus (`W`) in that cell. in which by explaining the rules defined:\r\n",
    "\r\n",
    "1. `wumpus_kb.tell(OK11 | '<=>' | (~P11 & ~W11 ))`: This rule defines a logical equivalence ('<=>') for cell (1,1). It states that the \"Okay\" status (`OK11`) in cell (1,1) is equivalent to the absence of Pits (`P11`) and the absence of Wumpus (`W11`) in that cell. In other words, if the cell is \"Okay,\" it implies that there are neither Pits nor a Wumpus in cell (1,1), and vice versa.\r\n",
    "\r\n",
    "2. `wumpus_kb.tell(OK12 | '<=>' | (~P12 & ~W12 ))`: Similarly, this rule establishes a logical equivalence between the \"Okay\" status (`OK12`) in cell (1,2) and the absence of Pits (`P12`) and the absence of Wumpus (`W12`) in that cell.\r\n",
    "\r\n",
    "3. `wumpus_kb.tell(OK21 | '<=>' | (~P21 & ~W21 ))`: This rule sets up a logical equivalence for cell (2,1) and the \"Okay\" status (`OK21`). It signifies that the \"Okay\" status in cell (2,1) is equivalent to the absence of Pits (`P21`) and the absence of Wumpus (`W21`) in that cell.\r\n",
    "\r\n",
    "These rules allow the knowledge base to represent the conditions under which a cell is considered \"Okay\" based on the absence of potential dangers such as Pits and Wumpus. The Agent can use this information to make safe"
   ]
  },
  {
   "cell_type": "code",
   "execution_count": 14,
   "id": "dc19907c-3b42-4a91-9535-bc5949ada55c",
   "metadata": {},
   "outputs": [],
   "source": [
    "wumpus_kb.tell(OK11 | '<=>' | (~P11 & ~W11 ))\n",
    "wumpus_kb.tell(OK12 | '<=>' | (~P12 & ~W12 ))\n",
    "wumpus_kb.tell(OK21 | '<=>' | (~P21 & ~W21 ))"
   ]
  },
  {
   "cell_type": "markdown",
   "id": "ccfc13a0-fcfe-4471-9c17-6dcd238ba1b0",
   "metadata": {},
   "source": [
    "-----------------------------------------------------------------------------------------------------------------------------------"
   ]
  },
  {
   "cell_type": "markdown",
   "id": "b3b0b25a-d765-42b2-b380-0946ae09b98b",
   "metadata": {},
   "source": [
    "# Task 1.iii\n",
    "## Task Description:\r\n",
    "\r\n",
    "Agent's Move: The agent executes a recommended move, which involves moving to a new square within the Wumpus World environment.\r\n",
    "\r\n",
    "Knowledge Update: After moving to the new square, the agent updates its knowledge base (KB) based on the percepts it receives in the new square. Percepts can include information about Breeze (B), Stench (S), and the \"Okay\" status (OK) of the square.\r\n",
    "\r\n",
    "Infer New Knowledge: The agent then infers new useful knowledge in the new square based on the updated percepts and the existing rules and logical relationships definede KB    "
   ]
  },
  {
   "cell_type": "code",
   "execution_count": 15,
   "id": "6301fdab-5969-4b43-b67b-f73c4ae01b50",
   "metadata": {},
   "outputs": [
    {
     "data": {
      "text/plain": [
       "True"
      ]
     },
     "execution_count": 15,
     "metadata": {},
     "output_type": "execute_result"
    }
   ],
   "source": [
    "wumpus_kb.ask_if_true(OK21) # Checking if the \"Okay\" status is true in cell (2,1)"
   ]
  },
  {
   "cell_type": "code",
   "execution_count": 16,
   "id": "8234622e-eaab-4350-b246-6f7b0d41ffa1",
   "metadata": {},
   "outputs": [],
   "source": [
    "wumpus_kb.tell(~A11) # Updating KB: There is no agent in cell (1,1)\n",
    "wumpus_kb.tell(A21) # Updating KB: There is an agent in cell (2,1)"
   ]
  },
  {
   "cell_type": "code",
   "execution_count": null,
   "id": "1de81c61-a3fa-4a3b-90c0-ea30a962ebe9",
   "metadata": {},
   "outputs": [],
   "source": [
    "wumpus_kb.tell(B21) # Updating KB: There is a Breeze in cell (2,1)\n",
    "wumpus_kb.tell(B21 | '<=>' | (P31 & P22 )) # Updating KB: Breeze implies Pit in neighboring cells"
   ]
  },
  {
   "cell_type": "markdown",
   "id": "b36c2be9-5054-477f-9a89-322a2f91f87e",
   "metadata": {},
   "source": [
    "This line updates the KB to establish a logical equivalence between the presence of a Breeze (B21) in cell (2,1) and the presence of Pits (P31 and P22) in the neighboring cells (3,1) and (2,2). It represents the inference that Breeze percepts may indicate the presence of Pits."
   ]
  },
  {
   "cell_type": "code",
   "execution_count": null,
   "id": "22c052e9-cbde-4ddd-86e7-4244fadf4284",
   "metadata": {},
   "outputs": [],
   "source": [
    "wumpus_kb.tell(~S21 | '<=>' | (~W31 & ~W22 )) # Updating KB: Stench implies no Wumpus in neighboring cells"
   ]
  },
  {
   "cell_type": "markdown",
   "id": "4ad4dd2a-0af0-468a-b877-9da7997c2116",
   "metadata": {},
   "source": [
    "This line updates the KB to establish a logical equivalence between the absence of Stench (~S21) in cell (2,1) and the absence of Wumpus (~W31 and ~W22) in the neighboring cells (3,1) and (2,2). It represents the inference that the absence of Stench percepts may indicate the absence of Wumpus."
   ]
  },
  {
   "cell_type": "code",
   "execution_count": 18,
   "id": "9fa6d4bc-88d2-46fc-a645-35a43fd0f03b",
   "metadata": {},
   "outputs": [],
   "source": [
    "wumpus_kb.tell(A11)  # Updating KB: There is an agent in cell (1,1)\n",
    "wumpus_kb.tell(~A21) # Updating KB: There is no agent in cell (2,1)"
   ]
  },
  {
   "cell_type": "code",
   "execution_count": 19,
   "id": "578379ca-1a5a-40f1-a73e-1a8f13307561",
   "metadata": {},
   "outputs": [
    {
     "data": {
      "text/plain": [
       "True"
      ]
     },
     "execution_count": 19,
     "metadata": {},
     "output_type": "execute_result"
    }
   ],
   "source": [
    "wumpus_kb.ask_if_true(OK12) #  Checking if the \"Okay\" status is true in cell (1,2)"
   ]
  },
  {
   "cell_type": "markdown",
   "id": "97227f08-7360-4a49-a991-6c7d0329666e",
   "metadata": {},
   "source": [
    "Therefore, the  KB is updated to reflect the presence or absence of the agent, Breeze, and Stench in the new square, as well as logical relationships between these percepts and neighboring cells.\n",
    "\n",
    "The inferences made include:\n",
    "\n",
    "If there is a Breeze in cell (2,1), it may imply the presence of Pits in neighboring cells (3,1) and (2,2).\n",
    "If there is no Stench in cell (2,1), it may imply the absence of Wumpus in neighboring cells (3,1) and (2,2).\n",
    "These inferences help the agent reason about potential dangers (Pits and Wumpus) and safety (Okay status) in the new square and neighboring cells, guiding its future actions and decisions.  "
   ]
  },
  {
   "cell_type": "markdown",
   "id": "358ada72-6c6c-407d-928f-bc1478a35652",
   "metadata": {},
   "source": [
    "-----------------------------------------------------------------------------------------------------------------------------------"
   ]
  },
  {
   "cell_type": "markdown",
   "id": "0ef4612d-e75a-4bf0-bdd3-9ae7b2c777aa",
   "metadata": {},
   "source": [
    "# Task 1.iv"
   ]
  },
  {
   "cell_type": "markdown",
   "id": "101ac7cc-8b38-4af3-88b1-b6660a24a988",
   "metadata": {},
   "source": [
    "Agent's Position: The agent is currently in square (1,2) in the Wumpus World environment.\n",
    "\n",
    "Knowledge Update: The agent needs to update its KB based on the percepts it receives in the current square (1,2) and the logical inferences made using the KB.\n",
    "\n",
    "Infer Next Move: The agent must determine the next move (action) to take based on the available knowledge and logical reasoning, ensuring the safety and efficiency of its journey.  "
   ]
  },
  {
   "cell_type": "code",
   "execution_count": 27,
   "id": "d7a7e984-c02e-46ed-9aab-afdd8a6ad923",
   "metadata": {},
   "outputs": [],
   "source": [
    "wumpus_kb.tell(A12) # Updating KB: There is an agent in cell (1,2)\n",
    "wumpus_kb.tell(S12)  # Updating KB: There is a Stench in cell (1,2)\n",
    "wumpus_kb.tell(~B12 | '<=>' | (~P13 & ~P22 )) # Updating KB: Breeze implies no Pits in neighboring cells\n",
    "wumpus_kb.tell(S12 | '<=>' | (W13 & W22 )) # Updating KB: Stench implies Wumpus in neighboring cells"
   ]
  },
  {
   "cell_type": "code",
   "execution_count": 28,
   "id": "2b763ffb-ee16-497f-8cba-f9f0ece08504",
   "metadata": {},
   "outputs": [
    {
     "data": {
      "text/plain": [
       "True"
      ]
     },
     "execution_count": 28,
     "metadata": {},
     "output_type": "execute_result"
    }
   ],
   "source": [
    "wumpus_kb.tell(OK22 | '<=>' | (~P22 & ~W22 ))  # Updating KB: Okay status implies no Pits or Wumpus in neighboring cells\n",
    "wumpus_kb.ask_if_true(OK12)  # Updating KB: Breeze implies no Pits in neighboring cells"
   ]
  },
  {
   "cell_type": "markdown",
   "id": "d9c496b3-0e19-491e-9b23-cadbaf75b4b1",
   "metadata": {},
   "source": [
    "The KB is updated to reflect the presence of the agent, Stench, and Breeze in the new square (1,2), as well as logical relationships between these percepts and neighboring cells.\n",
    "\n",
    "The inferences made include:\n",
    "\n",
    "If there is no Breeze in cell (1,2), it may imply the absence of Pits in neighboring cells (1,3) and (2,2).\n",
    "If there is a Stench in cell (1,2), it may imply the presence of Wumpus in neighboring cells (1,3) and (2,2).\n",
    "If there is an \"Okay\" status in cell (2,2), it may indicate the absence of both Pits and Wumpus in that cell.\n",
    "Based on these inferences, the agent can reason that it is relatively safe to move to cell (2,2) since there is an \"Okay\" status and no indications of Pits or Wumpus in the neighboring cell. The \"Okay\" status provides a logical basis for the next move."
   ]
  },
  {
   "cell_type": "markdown",
   "id": "fa63d5f5-4750-4f51-8ada-23b7ad21a57e",
   "metadata": {},
   "source": [
    "-----------------------------------------------------------------------------------------------------------\n",
    "--------------"
   ]
  },
  {
   "cell_type": "markdown",
   "id": "ea40ba08-6073-46cc-9188-953f08df579e",
   "metadata": {},
   "source": [
    "# First Order Logic"
   ]
  },
  {
   "cell_type": "markdown",
   "id": "c0f1e333-713a-4c7e-ba8a-dd381e268142",
   "metadata": {},
   "source": [
    "“Old Aberdeen is an area in the city of Aberdeen. This area has the Seaton Estate with council housingwhere high numbers of poorly qualified people live. It is known that areas with council housing have highunemployment. Poorly qualified people are unemployable and areas with unemployable people have highunemployment. Old Aberdeen is economically deprived, and economic deprivation is known to cause highunemployment. Areas with high crime rates are also known for high unemployment.”"
   ]
  },
  {
   "cell_type": "markdown",
   "id": "280d4324-5a9b-454c-8a43-06c8e9272f10",
   "metadata": {},
   "source": [
    "\n",
    "\r\n",
    "**1. Old Aberdeen is an area in the city of Aberdeen:**\r\n",
    "   - `IsArea(OldAberdeen, Aberdeen)`\r\n",
    "\r\n",
    "**2. Old Aberdeen has the Seaton Estate with council housing where high numbers of poorly qualified people live:**\r\n",
    "   - `HasCouncilHousing(SeatonEstate)`\r\n",
    "   - `HighNumbersOfPoorlyQualifiedPeopleLive(SeatonEstate)`\r\n",
    "\r\n",
    "**3. Areas with council housing have high unemployment:**\r\n",
    "   - `HasCouncilHousing(x) ==> HighUnemployment(x)`\r\n",
    "\r\n",
    "**4. Poorly qualified people are unemployable:**\r\n",
    "   - `PoorlyQualified(x) ==> IsUnemployable(x)`\r\n",
    "\r\n",
    "**5. Areas with unemployable people have high unemployment:**\r\n",
    "   - `IsUnemployable(x) ==> HighUnemployment(x)`\r\n",
    "\r\n",
    "**6. Old Aberdeen is economically deprived, and economic deprivation is known to cause high unemployment:**\r\n",
    "   - `IsEconomicallyDeprived(OldAberdeen)`\r\n",
    "   - `EconomicDeprivationCausesHighUnemployment(IsEconomicallyDeprived(x) ==> HighUnemployment(x))`\r\n",
    "\r\n",
    "**7. Areas with high crime rates are also known for high unemployment:**\r\n",
    "   - `HighCrimeRates(x) ==>the original description.=> HighUnemployment(x) `HighCrimeRates(x) =="
   ]
  },
  {
   "cell_type": "code",
   "execution_count": 87,
   "id": "0433be55-89ce-405b-bdca-68783afb3153",
   "metadata": {},
   "outputs": [],
   "source": [
    "clauses = []\n",
    "\n",
    "# 1. Old Aberdeen is an area in the city of Aberdeen\n",
    "clauses.append(expr(\"IsArea(OldAberdeen, Aberdeen)\"))\n",
    "\n",
    "# 2. Old Aberdeen has the Seaton Estate with council housing where high numbers of poorly qualified people live\n",
    "clauses.append(expr(\"HasCouncilHousing(SeatonEstate)\"))\n",
    "clauses.append(expr(\"HighNumbersOfPoorlyQualifiedPeopleLive(SeatonEstate)\"))\n",
    "\n",
    "# 3. Areas with council housing have high unemployment\n",
    "clauses.append(expr(\"HasCouncilHousing(x) ==> HighUnemployment(x)\"))\n",
    "\n",
    "# 4. Poorly qualified people are unemployable\n",
    "clauses.append(expr(\"PoorlyQualified(x) ==> IsUnemployable(x)\"))\n",
    "\n",
    "# 5. Areas with unemployable people have high unemployment\n",
    "clauses.append(expr(\"IsUnemployable(x) ==> HighUnemployment(x)\"))\n",
    "\n",
    "# 6. Old Aberdeen is economically deprived, and economic deprivation is known to cause high unemployment\n",
    "clauses.append(expr(\"IsEconomicallyDeprived(OldAberdeen)\"))\n",
    "clauses.append(expr(\"EconomicDeprivationCausesHighUnemployment(IsEconomicallyDeprived(x) ==> HighUnemployment(x))\"))\n",
    "\n",
    "# 7. Areas with high crime rates are also known for high unemployment\n",
    "clauses.append(expr(\"HighCrimeRates(x) ==> HighUnemployment(x)\"))\n"
   ]
  },
  {
   "cell_type": "code",
   "execution_count": 88,
   "id": "af4b8d25-b366-4238-a64d-cdc3f56b950d",
   "metadata": {},
   "outputs": [
    {
     "data": {
      "text/plain": [
       "[IsArea(OldAberdeen, Aberdeen),\n",
       " HasCouncilHousing(SeatonEstate),\n",
       " HighNumbersOfPoorlyQualifiedPeopleLive(SeatonEstate),\n",
       " (HasCouncilHousing(x) ==> HighUnemployment(x)),\n",
       " (PoorlyQualified(x) ==> IsUnemployable(x)),\n",
       " (IsUnemployable(x) ==> HighUnemployment(x)),\n",
       " IsEconomicallyDeprived(OldAberdeen),\n",
       " EconomicDeprivationCausesHighUnemployment((IsEconomicallyDeprived(x) ==> HighUnemployment(x))),\n",
       " (HighCrimeRates(x) ==> HighUnemployment(x))]"
      ]
     },
     "execution_count": 88,
     "metadata": {},
     "output_type": "execute_result"
    }
   ],
   "source": [
    "clauses"
   ]
  },
  {
   "cell_type": "code",
   "execution_count": 89,
   "id": "d297e1f8-67c1-4d3a-bdcd-1e767e4ce126",
   "metadata": {},
   "outputs": [],
   "source": [
    "# Create the knowledge base\n",
    "kb = FolKB(clauses)"
   ]
  },
  {
   "cell_type": "code",
   "execution_count": 91,
   "id": "d2f8e4cd-6688-4062-949a-80c975b8b2d0",
   "metadata": {},
   "outputs": [
    {
     "name": "stdout",
     "output_type": "stream",
     "text": [
      "[{x: SeatonEstate}]\n"
     ]
    }
   ],
   "source": [
    "# Query for areas in Aberdeen that have high unemployment\n",
    "answer = fol_fc_ask(kb, expr(' HighUnemployment(x)'))\n",
    "print(list(answer))"
   ]
  },
  {
   "cell_type": "markdown",
   "id": "e4326d90-99c1-4ae1-9640-3411ed9a8d52",
   "metadata": {},
   "source": [
    "---------------------------------------------------------------------------------------------------------------"
   ]
  },
  {
   "cell_type": "markdown",
   "id": "6f719185-152f-45f7-bc6d-49e5ba9ef841",
   "metadata": {},
   "source": [
    "# The forward chaining algorithm\n"
   ]
  },
  {
   "cell_type": "code",
   "execution_count": 79,
   "id": "f258452a-aa47-4e61-8513-8501a006a94e",
   "metadata": {},
   "outputs": [],
   "source": [
    "from logic import expr, FolKB, fol_fc_ask\n"
   ]
  },
  {
   "cell_type": "code",
   "execution_count": null,
   "id": "cf65b2d2-2684-4cee-ac6e-f8f582d08b62",
   "metadata": {},
   "outputs": [],
   "source": [
    "psource(fol_fc_ask)"
   ]
  },
  {
   "cell_type": "code",
   "execution_count": 92,
   "id": "ae3e0cbe-e46c-4cc2-a039-3977099223e9",
   "metadata": {},
   "outputs": [],
   "source": [
    "def fol_fc_ask(KB, alpha):\n",
    "    \"\"\"A simple forward-chaining algorithm. [Figure 9.3]\"\"\"\n",
    "    # TODO: Improve efficiency\n",
    "    kb_consts = list({c for clause in KB.clauses for c in constant_symbols(clause)})\n",
    "    def enum_subst(p):\n",
    "        query_vars = list({v for clause in p for v in variables(clause)})\n",
    "        for assignment_list in itertools.product(kb_consts, repeat=len(query_vars)):\n",
    "            theta = {x: y for x, y in zip(query_vars, assignment_list)}\n",
    "            yield theta\n",
    "\n",
    "    # check if we can answer without new inferences\n",
    "    for q in KB.clauses:\n",
    "        phi = unify(q, alpha, {})\n",
    "        if phi is not None:\n",
    "            yield phi\n",
    "\n",
    "    while True:\n",
    "        new = []\n",
    "        for rule in KB.clauses:\n",
    "            p, q = parse_definite_clause(rule)\n",
    "            for theta in enum_subst(p):\n",
    "                if set(subst(theta, p)).issubset(set(KB.clauses)):\n",
    "                    q_ = subst(theta, q)\n",
    "                    if all([unify(x, q_, {}) is None for x in KB.clauses + new]):\n",
    "                        new.append(q_)\n",
    "                        phi = unify(q_, alpha, {})\n",
    "                        if phi is not None:\n",
    "                            yield phi\n",
    "        if not new:\n",
    "            break\n",
    "        for clause in new:\n",
    "            KB.tell(clause)\n",
    "    return None"
   ]
  },
  {
   "cell_type": "code",
   "execution_count": 94,
   "id": "3aff7fb5-7222-4d90-b550-cac5558bdd8c",
   "metadata": {},
   "outputs": [
    {
     "name": "stdout",
     "output_type": "stream",
     "text": [
      "[{x: SeatonEstate}]\n"
     ]
    }
   ],
   "source": [
    "answer = fol_fc_ask(kb, expr(' HighUnemployment(x)'))\n",
    "print(list(answer))"
   ]
  },
  {
   "cell_type": "code",
   "execution_count": null,
   "id": "a2bc9d9c-8603-4924-a9c6-21565f4ae35f",
   "metadata": {},
   "outputs": [],
   "source": []
  }
 ],
 "metadata": {
  "kernelspec": {
   "display_name": "Python 3 (ipykernel)",
   "language": "python",
   "name": "python3"
  },
  "language_info": {
   "codemirror_mode": {
    "name": "ipython",
    "version": 3
   },
   "file_extension": ".py",
   "mimetype": "text/x-python",
   "name": "python",
   "nbconvert_exporter": "python",
   "pygments_lexer": "ipython3",
   "version": "3.11.4"
  }
 },
 "nbformat": 4,
 "nbformat_minor": 5
}
